{
  "nbformat": 4,
  "nbformat_minor": 0,
  "metadata": {
    "colab": {
      "provenance": []
    },
    "kernelspec": {
      "name": "python3",
      "display_name": "Python 3"
    },
    "language_info": {
      "name": "python"
    }
  },
  "cells": [
    {
      "cell_type": "markdown",
      "source": [
        "1.  Create a simple page with some div tags and show\n",
        "different ways to add CSS as well as what happens\n",
        "when you target the same elements with inline, internal, and external CSS. Also, utilize comments in the\n",
        "project where required\n",
        "\n",
        "\n"
      ],
      "metadata": {
        "id": "MirauV0-J8s4"
      }
    },
    {
      "cell_type": "code",
      "source": [
        "<!DOCTYPE html>\n",
        "<html lang=\"en\">\n",
        "<head>\n",
        "    <meta charset=\"UTF-8\">\n",
        "    <meta name=\"viewport\" content=\"width=device-width, initial-scale=1.0\">\n",
        "    <title>CSS Priority Demo</title>\n",
        "\n",
        "    <!-- External CSS  -->\n",
        "    <link rel=\"stylesheet\" href=\"styles.css\">\n",
        "\n",
        "    <!-- Internal CSS -->\n",
        "    <style>\n",
        "        .box {\n",
        "            background-color: lightblue; /* Overwrites external CSS unless inline is present */\n",
        "            padding: 20px;\n",
        "            border: 2px solid blue;\n",
        "        }\n",
        "    </style>\n",
        "</head>\n",
        "<body>\n",
        "    <h1>CSS Priority Demonstration</h1>\n",
        "\n",
        "    <div class=\"box\" style=\"background-color: yellow; border: 3px dashed red;\">\n",
        "        <!-- Inline CSS  -->\n",
        "        This div has inline, internal, and external styles applied.\n",
        "    </div>\n",
        "\n",
        "</body>\n",
        "</html>\n"
      ],
      "metadata": {
        "id": "jtdOFDnjKMbD"
      },
      "execution_count": null,
      "outputs": []
    },
    {
      "cell_type": "markdown",
      "source": [
        "\n",
        "2. Build an HTML page with multiple paragraphs, each assigned a unique class name. Write CSS rules using\n",
        "class selectors to apply distinct styling to each paragraph. Follow the BEM naming convention and\n",
        "explain how you've named the classes\n",
        "\n",
        "\n"
      ],
      "metadata": {
        "id": "btb6_cxDKvxO"
      }
    },
    {
      "cell_type": "code",
      "source": [
        "<!DOCTYPE html>\n",
        "<html lang=\"en\">\n",
        "<head>\n",
        "    <meta charset=\"UTF-8\">\n",
        "    <meta name=\"viewport\" content=\"width=device-width, initial-scale=1.0\">\n",
        "    <title>BEM CSS Styling</title>\n",
        "\n",
        "    <!-- External CSS -->\n",
        "    <link rel=\"stylesheet\" href=\"styles.css\">\n",
        "\n",
        "    <!-- Internal CSS -->\n",
        "    <style>\n",
        "        .text--primary {\n",
        "            color: blue;\n",
        "            font-weight: bold;\n",
        "        }\n",
        "        .text--secondary {\n",
        "            color: green;\n",
        "            font-style: italic;\n",
        "        }\n",
        "        .text--highlight {\n",
        "            background-color: yellow;\n",
        "            padding: 5px;\n",
        "        }\n",
        "    </style>\n",
        "</head>\n",
        "<body>\n",
        "    <h1>BEM CSS Styling Demonstration</h1>\n",
        "\n",
        "    <p class=\"text--primary\">This is the primary paragraph with bold blue text.</p>\n",
        "    <p class=\"text--secondary\">This is the secondary paragraph with italic green text.</p>\n",
        "    <p class=\"text--highlight\">This paragraph has a highlighted background.</p>\n",
        "\n",
        "</body>\n",
        "</html>\n"
      ],
      "metadata": {
        "id": "TNEMAhgyMJPn"
      },
      "execution_count": null,
      "outputs": []
    },
    {
      "cell_type": "markdown",
      "source": [
        "I've updated your HTML page to include multiple paragraphs with unique class names following the BEM naming convention. Each class (text--primary, text--secondary, text--highlight) is styled distinctly using class selectors."
      ],
      "metadata": {
        "id": "-3ONu_TqMaRE"
      }
    },
    {
      "cell_type": "markdown",
      "source": [
        "3. Develop an HTML form with various input elements. Use CSS to style the form, including setting\n",
        "background colors for input fields. Create a custom color palette for the form elements, and demonstrate\n",
        "how to apply opacity to one of the form sections"
      ],
      "metadata": {
        "id": "K2l5CZBbM3fe"
      }
    },
    {
      "cell_type": "code",
      "source": [
        "<!DOCTYPE html>\n",
        "<html lang=\"en\">\n",
        "<head>\n",
        "    <meta charset=\"UTF-8\">\n",
        "    <meta name=\"viewport\" content=\"width=device-width, initial-scale=1.0\">\n",
        "    <title>Styled Form with Custom Colors</title>\n",
        "\n",
        "    <link rel=\"stylesheet\" href=\"styles.css\">\n",
        "\n",
        "    <style>\n",
        "        body {\n",
        "            font-family: Arial, sans-serif;\n",
        "            background-color: #f4f4f4;\n",
        "            padding: 20px;\n",
        "        }\n",
        "        .form-container {\n",
        "            background-color: rgba(255, 255, 255, 0.9);\n",
        "            padding: 20px;\n",
        "            border-radius: 8px;\n",
        "            width: 300px;\n",
        "            box-shadow: 0 0 10px rgba(0, 0, 0, 0.1);\n",
        "        }\n",
        "        .form-container input[type=\"text\"],\n",
        "        .form-container input[type=\"email\"],\n",
        "        .form-container textarea {\n",
        "            width: 100%;\n",
        "            padding: 8px;\n",
        "            margin: 5px 0;\n",
        "            border: 1px solid #ccc;\n",
        "            border-radius: 4px;\n",
        "            background-color: #e8f0fe;\n",
        "        }\n",
        "        .form-container button {\n",
        "            background-color: #007bff;\n",
        "            color: white;\n",
        "            border: none;\n",
        "            padding: 10px;\n",
        "            width: 100%;\n",
        "            border-radius: 4px;\n",
        "            cursor: pointer;\n",
        "        }\n",
        "        .form-container button:hover {\n",
        "            background-color: #0056b3;\n",
        "        }\n",
        "    </style>\n",
        "</head>\n",
        "<body>\n",
        "    <h1>Styled Form Demonstration</h1>\n",
        "\n",
        "    <div class=\"form-container\">\n",
        "        <form>\n",
        "            <label for=\"name\">Name:</label>\n",
        "            <input type=\"text\" id=\"name\" name=\"name\" placeholder=\"Enter your name\">\n",
        "\n",
        "            <label for=\"email\">Email:</label>\n",
        "            <input type=\"email\" id=\"email\" name=\"email\" placeholder=\"Enter your email\">\n",
        "\n",
        "            <label for=\"message\">Message:</label>\n",
        "            <textarea id=\"message\" name=\"message\" placeholder=\"Enter your message\"></textarea>\n",
        "\n",
        "            <button type=\"submit\">Submit</button>\n",
        "        </form>\n",
        "    </div>\n",
        "</body>\n",
        "</html>"
      ],
      "metadata": {
        "id": "8jwMQgmPM_Rf"
      },
      "execution_count": null,
      "outputs": []
    }
  ]
}